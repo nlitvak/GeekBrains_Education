{
 "cells": [
  {
   "cell_type": "code",
   "execution_count": 1,
   "metadata": {},
   "outputs": [],
   "source": [
    "import numpy as np\n",
    "from numpy.linalg import norm"
   ]
  },
  {
   "cell_type": "markdown",
   "metadata": {},
   "source": [
    "### Задание №1"
   ]
  },
  {
   "cell_type": "markdown",
   "metadata": {},
   "source": [
    "Найти скалярное произведение векторов $x, y \\in \\mathbb{R} :$\n",
    "\n",
    "a) $x=(0, -3, 6), y=(-4, 7, 9)$\n",
    "\n",
    "б) $x=(7, -4, 0, 1), y=(-3, 1, 11, 2)$"
   ]
  },
  {
   "cell_type": "code",
   "execution_count": 2,
   "metadata": {},
   "outputs": [
    {
     "name": "stdout",
     "output_type": "stream",
     "text": [
      "Скалярное произведение x и y: 33\n"
     ]
    }
   ],
   "source": [
    "x = np.array([0, -3, 6])\n",
    "y = np.array([-4, 7, 9])\n",
    "print(f'Скалярное произведение x и y: {np.dot(x, y)}')"
   ]
  },
  {
   "cell_type": "code",
   "execution_count": 3,
   "metadata": {},
   "outputs": [
    {
     "name": "stdout",
     "output_type": "stream",
     "text": [
      "Скалярное произведение x и y: -23\n"
     ]
    }
   ],
   "source": [
    "x = np.array([7, -4, 0, 1])\n",
    "y = np.array([-3, 1, 11, 2])\n",
    "print(f'Скалярное произведение x и y: {np.dot(x, y)}')"
   ]
  },
  {
   "cell_type": "markdown",
   "metadata": {},
   "source": [
    "### Задание №2"
   ]
  },
  {
   "cell_type": "markdown",
   "metadata": {},
   "source": [
    "Найти нормы векторов (4, 2, 4) и (12, 3, 4) и угол между ними"
   ]
  },
  {
   "cell_type": "code",
   "execution_count": 4,
   "metadata": {},
   "outputs": [
    {
     "name": "stdout",
     "output_type": "stream",
     "text": [
      "l1a норма вектора a: 10.0\n",
      "l2a норма вектора a: 6.0\n",
      "l1b норма вектора b: 19.0\n",
      "l2b норма вектора b: 13.0\n",
      "Косинус угла между a и b: 0.90\n",
      "Угол между a и b: 0.46\n"
     ]
    }
   ],
   "source": [
    "a = np.array([4, 2, 4])\n",
    "b = np.array([12, 3, 4])\n",
    "\n",
    "print(f'l1a норма вектора a: {norm(a, ord=1)}')\n",
    "print(f'l2a норма вектора a: {norm(a, ord=2)}')\n",
    "\n",
    "print(f'l1b норма вектора b: {norm(b, ord=1)}')\n",
    "print(f'l2b норма вектора b: {norm(b, ord=2)}')\n",
    "\n",
    "cos_pi = np.dot(a, b) / norm(a) / norm(b)\n",
    "print(f'Косинус угла между a и b: {cos_pi:.2f}')\n",
    "print(f'Угол между a и b: {np.arccos(cos_pi):.2f}')"
   ]
  },
  {
   "cell_type": "markdown",
   "metadata": {},
   "source": [
    "### Задание №3"
   ]
  },
  {
   "cell_type": "markdown",
   "metadata": {},
   "source": [
    "Будет ли линейное пространство евклидовым, если за скалярное произведение принять:\n",
    "\n",
    "а) произведение длин векторов;\n",
    "\n",
    "б) утроенное обычное скалярное произведение векторов?"
   ]
  },
  {
   "cell_type": "markdown",
   "metadata": {},
   "source": [
    "### Задание №4"
   ]
  },
  {
   "cell_type": "markdown",
   "metadata": {},
   "source": [
    "Какие из нижеперечисленных векторов образуют ортонормированный базис в линейном пространстве $\\mathbb{R}^{3} :$"
   ]
  },
  {
   "cell_type": "markdown",
   "metadata": {},
   "source": [
    "a) $(1, 0, 0), (0, 0, 1)$\n",
    "\n",
    "б) $(1 / \\sqrt{2}, -1 / \\sqrt{2}, 0), (1 / \\sqrt{2}, 1 / \\sqrt{2}, 0),(0, 0, 1) ;$\n",
    "\n",
    "B) $(1 / 2, -1 / 2, 0), (0, 1 / 2, 1 / 2), (0, 0, 1) ;$\n",
    "\n",
    "r) $(1, 0, 0), (0, 1, 0), (0, 0, 1) ?$"
   ]
  },
  {
   "cell_type": "code",
   "execution_count": null,
   "metadata": {},
   "outputs": [],
   "source": []
  }
 ],
 "metadata": {
  "kernelspec": {
   "display_name": "Python 3",
   "language": "python",
   "name": "python3"
  },
  "language_info": {
   "codemirror_mode": {
    "name": "ipython",
    "version": 3
   },
   "file_extension": ".py",
   "mimetype": "text/x-python",
   "name": "python",
   "nbconvert_exporter": "python",
   "pygments_lexer": "ipython3",
   "version": "3.7.1"
  }
 },
 "nbformat": 4,
 "nbformat_minor": 2
}
