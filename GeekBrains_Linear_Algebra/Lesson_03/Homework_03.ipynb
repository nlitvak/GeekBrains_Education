{
 "cells": [
  {
   "cell_type": "code",
   "execution_count": 1,
   "metadata": {},
   "outputs": [],
   "source": [
    "import numpy as np\n",
    "from numpy.linalg import norm"
   ]
  },
  {
   "cell_type": "markdown",
   "metadata": {},
   "source": [
    "### Задание №1"
   ]
  },
  {
   "cell_type": "markdown",
   "metadata": {},
   "source": [
    "Найти собственные векторы и собственные значения для линейного оператора, заданного матрицей:\n",
    "$A=\\left(\\begin{array}{cc}{-1} & {-6} \\\\ {2} & {6}\\end{array}\\right)$"
   ]
  },
  {
   "cell_type": "code",
   "execution_count": 2,
   "metadata": {},
   "outputs": [],
   "source": [
    "a = np.array([[-1,-6],[2,6]])\n",
    "w, v = np.linalg.eig(a)"
   ]
  },
  {
   "cell_type": "code",
   "execution_count": 3,
   "metadata": {},
   "outputs": [
    {
     "name": "stdout",
     "output_type": "stream",
     "text": [
      "Матрица a:\n",
      "[[-1 -6]\n",
      " [ 2  6]]\n",
      "Собственные значения:\n",
      "[2. 3.]\n",
      "Собственные векторы:\n",
      "[[-0.89442719  0.83205029]\n",
      " [ 0.4472136  -0.5547002 ]]\n"
     ]
    }
   ],
   "source": [
    "print(f'Матрица a:\\n{a}')\n",
    "print(f'Собственные значения:\\n{w}')\n",
    "print(f'Собственные векторы:\\n{v}')"
   ]
  },
  {
   "cell_type": "markdown",
   "metadata": {},
   "source": [
    "### Задание №2"
   ]
  },
  {
   "cell_type": "markdown",
   "metadata": {},
   "source": [
    "Дан оператор поворота на 180 градусов, задаваемый матрицей:\n",
    "$A=\\left(\\begin{array}{cc}{-1} & {0} \\\\ {0} & {-1}\\end{array}\\right)$ Показать, что любой вектор является для него собственным."
   ]
  },
  {
   "cell_type": "markdown",
   "metadata": {},
   "source": [
    "Предположим, что вектор $x=(x_1,x_2)$ является собственным вектором заданного линейного оператора, тогда должно существовать некоторое вещественное число 𝜆 , при котором:\n",
    "$\\left(\\begin{array}{cc}{-1} & {0} \\\\ {0} & {-1}\\end{array}\\right)\\left(\\begin{array}{c}{x_1} \\\\ {x_2}\\end{array}\\right)=\\lambda\\left(\\begin{array}{c}{x_1} \\\\ {x_2}\\end{array}\\right)$"
   ]
  },
  {
   "cell_type": "markdown",
   "metadata": {},
   "source": [
    "Из этого будет следовать, что:\n",
    "$\\left\\{\\begin{array}{l}{-x_1+0*x_2=x_1 \\cdot \\lambda} \\\\ {0*x_1-1*x_2=x_2 \\cdot \\lambda}\\end{array} \\Rightarrow\\left\\{\\begin{array}{l}{\\lambda=-1} \\\\ {\\lambda=-1}\\end{array}\\right.\\right.$"
   ]
  },
  {
   "cell_type": "markdown",
   "metadata": {},
   "source": [
    "Таким образом, любой вектор $x=(x_1,x_2)$ является собственным вектором линейного оператора, заданного матрицей 𝐴, и его собственное значение составляет 𝜆=-1."
   ]
  },
  {
   "cell_type": "markdown",
   "metadata": {},
   "source": [
    "### Задание №3"
   ]
  },
  {
   "cell_type": "markdown",
   "metadata": {},
   "source": [
    "Пусть линейный оператор задан матрицей:\n",
    "$A=\\left(\\begin{array}{cc}{1} & {1} \\\\ {-1} & {3}\\end{array}\\right)$\n",
    "Установить, является ли вектор $x=(1,1)$ собственным вектором этого линейного оператора."
   ]
  },
  {
   "cell_type": "markdown",
   "metadata": {},
   "source": [
    "Предположим, что вектор 𝑥 является собственным вектором заданного линейного оператора, тогда должно существовать некоторое вещественное число 𝜆 , при котором:\n",
    "$\\left(\\begin{array}{cc}{1} & {1} \\\\ {-1} & {3}\\end{array}\\right)\\left(\\begin{array}{c}{1} \\\\ {1}\\end{array}\\right)=\\lambda\\left(\\begin{array}{c}{1} \\\\ {1}\\end{array}\\right)$"
   ]
  },
  {
   "cell_type": "markdown",
   "metadata": {},
   "source": [
    "Из этого будет следовать, что:\n",
    "$\\left\\{\\begin{array}{l}{1+1=1 \\cdot \\lambda} \\\\ {-1+3=1 \\cdot \\lambda}\\end{array} \\Rightarrow\\left\\{\\begin{array}{l}{\\lambda=2} \\\\ {\\lambda=2}\\end{array}\\right.\\right.$"
   ]
  },
  {
   "cell_type": "markdown",
   "metadata": {},
   "source": [
    "Таким образом, вектор $x=(1,1)$ является собственным вектором линейного оператора, заданного матрицей 𝐴, и его собственное значение составляет 𝜆=2."
   ]
  },
  {
   "cell_type": "markdown",
   "metadata": {},
   "source": [
    "### Задание №4"
   ]
  },
  {
   "cell_type": "markdown",
   "metadata": {},
   "source": [
    "Пусть линейный оператор задан матрицей:\n",
    "$A=\\left(\\begin{array}{lll}{0} & {3} & {0} \\\\ {3} & {0} & {0} \\\\ {0} & {0} & {3}\\end{array}\\right)$\n",
    "Установить, является ли вектор $x=(3,-3,-4)$ собственным вектором этого линейного оператора."
   ]
  },
  {
   "cell_type": "markdown",
   "metadata": {},
   "source": [
    "Предположим, что вектор 𝑥 является собственным вектором заданного линейного оператора. Аналогично методике из предыдущего примера получим:\n",
    "$\\left(\\begin{array}{lll}{0} & {3} & {0} \\\\ {3} & {0} & {0} \\\\ {0} & {0} & {3}\\end{array}\\right)\\left(\\begin{array}{l}{3} \\\\ {-3} \\\\ {-4}\\end{array}\\right)=\\lambda\\left(\\begin{array}{l}{3} \\\\ {-3} \\\\ {-4}\\end{array}\\right)$\n",
    "$\\Rightarrow\\left\\{\\begin{array}{l}{\\lambda=-3} \\\\ {\\lambda=-3} \\\\ {\\lambda=3}\\end{array} \\right.$"
   ]
  },
  {
   "cell_type": "markdown",
   "metadata": {},
   "source": [
    "Такая система не имеет смысла, следовательно, вектор $x=(3,-3,-4)$ не является собственным вектором линейного оператора, заданного матрицей 𝐴 ."
   ]
  },
  {
   "cell_type": "code",
   "execution_count": null,
   "metadata": {},
   "outputs": [],
   "source": []
  }
 ],
 "metadata": {
  "kernelspec": {
   "display_name": "Python 3",
   "language": "python",
   "name": "python3"
  },
  "language_info": {
   "codemirror_mode": {
    "name": "ipython",
    "version": 3
   },
   "file_extension": ".py",
   "mimetype": "text/x-python",
   "name": "python",
   "nbconvert_exporter": "python",
   "pygments_lexer": "ipython3",
   "version": "3.7.1"
  }
 },
 "nbformat": 4,
 "nbformat_minor": 2
}
